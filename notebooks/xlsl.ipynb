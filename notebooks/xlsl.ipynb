# Aura — Exploration Notebook

1. Introduction and objectives.
2. Load Aura.xlsl with the loader.
3. Inspect sheets: Lifespan_Data, Environment_Factors, Genomics.
4. Perform preprocessing: merge Lifespan_Data + Environment_Factors on Subject_ID.
5. Train baseline model (RandomForest) to predict Outcome_Lifespan.
6. Plot feature importances and partial dependence.
7. Build a toy QAOA circuit for an optimization subproblem.
8. Save visualizations to `reports/` and write back results to the workbook.
